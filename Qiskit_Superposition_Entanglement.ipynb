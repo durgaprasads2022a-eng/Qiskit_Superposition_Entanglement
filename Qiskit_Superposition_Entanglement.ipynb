{
  "cells": [
    {
      "cell_type": "code",
      "execution_count": 6,
      "metadata": {
        "id": "UcZ6SXcUFweQ"
      },
      "outputs": [],
      "source": [
        "# ===========================\n",
        "# Installing Qiskit, Aer, and pylatexenc\n",
        "# ===========================\n",
        "!pip install qiskit --quiet\n",
        "!pip install qiskit-aer --quiet\n",
        "!pip install pylatexenc --quiet"
      ]
    },
    {
      "cell_type": "code",
      "execution_count": 2,
      "metadata": {
        "id": "ujeoYGgMF4JF"
      },
      "outputs": [],
      "source": [
        "# ===========================\n",
        "# Import Libraries\n",
        "# ===========================\n",
        "from qiskit import QuantumCircuit\n",
        "from qiskit_aer import AerSimulator\n",
        "from qiskit.visualization import plot_histogram, plot_bloch_multivector\n",
        "from qiskit.quantum_info import Statevector\n",
        "import matplotlib.pyplot as plt"
      ]
    },
    {
      "cell_type": "code",
      "execution_count": 3,
      "metadata": {
        "colab": {
          "base_uri": "https://localhost:8080/"
        },
        "id": "esAK9seQF7CA",
        "outputId": "1ad735a0-8537-4c15-e263-3f063589f080"
      },
      "outputs": [
        {
          "output_type": "stream",
          "name": "stdout",
          "text": [
            "=== Task 1: Superposition ===\n",
            "   ┌───┐\n",
            "q: ┤ H ├\n",
            "   └───┘\n",
            "Superposition Statevector: Statevector([0.70710678+0.j, 0.70710678+0.j],\n",
            "            dims=(2,))\n",
            "Superposition Measurement Counts: {'0': 495, '1': 529}\n",
            "\n",
            "Observation: The probabilities for |0⟩ and |1⟩ are nearly equal (~50-50).\n",
            "This confirms the qubit is in a superposition state after applying Hadamard.\n"
          ]
        }
      ],
      "source": [
        "# ==========================================================\n",
        "# 1. Superposition Example\n",
        "# ==========================================================\n",
        "print(\"=== Task 1: Superposition ===\")\n",
        "\n",
        "# Create 1-qubit circuit\n",
        "qc_super = QuantumCircuit(1)\n",
        "\n",
        "# Apply Hadamard gate to create superposition\n",
        "qc_super.h(0)\n",
        "\n",
        "# Draw the circuit\n",
        "print(qc_super.draw('text'))\n",
        "\n",
        "# Get statevector\n",
        "state_super = Statevector.from_instruction(qc_super)\n",
        "print(\"Superposition Statevector:\", state_super)\n",
        "\n",
        "# Plot Bloch sphere representation\n",
        "plot_bloch_multivector(state_super)\n",
        "plt.show()\n",
        "\n",
        "# Measure and simulate\n",
        "qc_super.measure_all()\n",
        "simulator = AerSimulator()\n",
        "job_super = simulator.run(qc_super, shots=1024)\n",
        "result_super = job_super.result()\n",
        "counts_super = result_super.get_counts()\n",
        "\n",
        "# Display measurement results\n",
        "print(\"Superposition Measurement Counts:\", counts_super)\n",
        "plot_histogram(counts_super, title=\"Superposition Measurement Results\")\n",
        "plt.show()\n",
        "\n",
        "print(\"\\nObservation: The probabilities for |0⟩ and |1⟩ are nearly equal (~50-50).\")\n",
        "print(\"This confirms the qubit is in a superposition state after applying Hadamard.\")"
      ]
    },
    {
      "cell_type": "code",
      "execution_count": 4,
      "metadata": {
        "colab": {
          "base_uri": "https://localhost:8080/"
        },
        "id": "tu04DU9VF-dS",
        "outputId": "392e3147-db9e-4f83-c50e-e4098f33c373"
      },
      "outputs": [
        {
          "output_type": "stream",
          "name": "stdout",
          "text": [
            "\n",
            "=== Task 2: Entanglement ===\n",
            "     ┌───┐     \n",
            "q_0: ┤ H ├──■──\n",
            "     └───┘┌─┴─┐\n",
            "q_1: ─────┤ X ├\n",
            "          └───┘\n",
            "Entangled Statevector: Statevector([0.70710678+0.j, 0.        +0.j, 0.        +0.j,\n",
            "             0.70710678+0.j],\n",
            "            dims=(2, 2))\n",
            "Entanglement Measurement Counts: {'11': 520, '00': 504}\n",
            "\n",
            "Observation: The outcomes are strongly correlated (mostly |00⟩ and |11⟩).\n",
            "This confirms the creation of an entangled Bell state between the two qubits.\n"
          ]
        }
      ],
      "source": [
        "# ==========================================================\n",
        "# 2. Entanglement Example\n",
        "# ==========================================================\n",
        "print(\"\\n=== Task 2: Entanglement ===\")\n",
        "\n",
        "# Create 2-qubit circuit\n",
        "qc_ent = QuantumCircuit(2)\n",
        "\n",
        "# Apply Hadamard on qubit 0\n",
        "qc_ent.h(0)\n",
        "\n",
        "# Apply CNOT to entangle qubit 0 and 1\n",
        "qc_ent.cx(0, 1)\n",
        "\n",
        "# Draw the circuit\n",
        "print(qc_ent.draw('text'))\n",
        "\n",
        "# Get statevector\n",
        "state_ent = Statevector.from_instruction(qc_ent)\n",
        "print(\"Entangled Statevector:\", state_ent)\n",
        "\n",
        "# Visualize entangled state on Bloch sphere\n",
        "plot_bloch_multivector(state_ent)\n",
        "plt.show()\n",
        "\n",
        "# Measure and simulate\n",
        "qc_ent.measure_all()\n",
        "job_ent = simulator.run(qc_ent, shots=1024)\n",
        "result_ent = job_ent.result()\n",
        "counts_ent = result_ent.get_counts()\n",
        "\n",
        "# Display measurement results\n",
        "print(\"Entanglement Measurement Counts:\", counts_ent)\n",
        "plot_histogram(counts_ent, title=\"Entanglement Measurement Results\")\n",
        "plt.show()\n",
        "\n",
        "print(\"\\nObservation: The outcomes are strongly correlated (mostly |00⟩ and |11⟩).\")\n",
        "print(\"This confirms the creation of an entangled Bell state between the two qubits.\")"
      ]
    }
  ],
  "metadata": {
    "colab": {
      "provenance": []
    },
    "kernelspec": {
      "display_name": "ai_project",
      "language": "python",
      "name": "python3"
    },
    "language_info": {
      "codemirror_mode": {
        "name": "ipython",
        "version": 3
      },
      "file_extension": ".py",
      "mimetype": "text/x-python",
      "name": "python",
      "nbconvert_exporter": "python",
      "pygments_lexer": "ipython3",
      "version": "3.11.13"
    }
  },
  "nbformat": 4,
  "nbformat_minor": 0
}